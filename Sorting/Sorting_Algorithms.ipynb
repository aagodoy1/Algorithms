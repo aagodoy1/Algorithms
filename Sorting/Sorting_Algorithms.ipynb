{
 "cells": [
  {
   "cell_type": "markdown",
   "metadata": {},
   "source": [
    "This jupyter is to show how good different sorting algorithms works"
   ]
  },
  {
   "cell_type": "code",
   "execution_count": 1,
   "metadata": {},
   "outputs": [],
   "source": [
    "list_to_sort = [66, 48, 43, 52, 33, 40, 64, 7, 14, 49, 67, 51, 68, 31, 19, 5, 32, 17, 12, 97, 75, 86, 99, 70, 29, 76, 88, 16, 37, 94]"
   ]
  },
  {
   "cell_type": "markdown",
   "metadata": {},
   "source": [
    "### 1) BogoSort: This is basically sorting randomly the values until they are sorted"
   ]
  },
  {
   "cell_type": "markdown",
   "metadata": {},
   "source": [
    "This algorithm has 2 parts. The first one is sorting in the only one good propetie"
   ]
  },
  {
   "cell_type": "code",
   "execution_count": 7,
   "metadata": {},
   "outputs": [
    {
     "name": "stdout",
     "output_type": "stream",
     "text": [
      "Original list: [64, 88, 76, 97, 94]\n",
      "Attempt numbers: 1\n",
      "[94, 88, 97, 64, 76]\n",
      "Attempt numbers: 2\n",
      "[97, 76, 88, 64, 94]\n",
      "Attempt numbers: 3\n",
      "[64, 94, 76, 97, 88]\n",
      "Attempt numbers: 4\n",
      "[94, 97, 76, 64, 88]\n",
      "Attempt numbers: 5\n",
      "[94, 88, 97, 64, 76]\n",
      "Attempt numbers: 6\n",
      "[94, 76, 64, 88, 97]\n",
      "Attempt numbers: 7\n",
      "[94, 88, 97, 76, 64]\n",
      "Attempt numbers: 8\n",
      "[64, 88, 76, 94, 97]\n",
      "Attempt numbers: 9\n",
      "[64, 97, 88, 94, 76]\n",
      "Sorted after 61 attempts\n",
      "Sorted list: [64, 76, 88, 94, 97]\n"
     ]
    }
   ],
   "source": [
    "import random\n",
    "\n",
    "def is_sorted(arr):\n",
    "    for i in range(len(arr) - 1):\n",
    "        if arr[i] > arr[i + 1]:\n",
    "            return False\n",
    "    return True\n",
    "\n",
    "def bogo_sort(arr):\n",
    "    attempts = 0 \n",
    "    while not is_sorted(arr):\n",
    "        random.shuffle(arr) \n",
    "        attempts += 1\n",
    "        if attempts // 10 == 0:\n",
    "            print(f'Attempt numbers: {attempts}')\n",
    "            print(arr)\n",
    "    print(f\"Sorted after {attempts} attempts\")\n",
    "    return arr\n",
    "\n",
    "print(\"Original list:\", list_to_sort[:5]) # ONLY 5 NUMBER SO IT DOESN'T TAKE SO LONG\n",
    "sorted_arr = bogo_sort(list_to_sort[:5])\n",
    "print(\"Sorted list:\", sorted_arr[:5])\n"
   ]
  },
  {
   "cell_type": "markdown",
   "metadata": {},
   "source": [
    "## 2) _Bubble Sort_ : \n",
    "This algorithm compares adjacent elements and swaps them if they are in the wrong order. It continues moving larger elements to the right, \"bubbling\" them up to their correct position with each pass through the list. After each pass, the largest unsorted element is placed at the end of the list, forming a growing sorted section."
   ]
  },
  {
   "cell_type": "code",
   "execution_count": 2,
   "metadata": {},
   "outputs": [
    {
     "name": "stdout",
     "output_type": "stream",
     "text": [
      "Original list: [66, 48, 43, 52, 33, 40, 64, 7, 14, 49]\n",
      "Attempt number: 1\n",
      "[48, 43, 52, 33, 40, 64, 7, 14, 49, 66]\n",
      "Attempt number: 2\n",
      "[43, 48, 33, 40, 52, 7, 14, 49, 64, 66]\n",
      "Attempt number: 3\n",
      "[43, 33, 40, 48, 7, 14, 49, 52, 64, 66]\n",
      "Attempt number: 4\n",
      "[33, 40, 43, 7, 14, 48, 49, 52, 64, 66]\n",
      "Attempt number: 5\n",
      "[33, 40, 7, 14, 43, 48, 49, 52, 64, 66]\n",
      "Attempt number: 6\n",
      "[33, 7, 14, 40, 43, 48, 49, 52, 64, 66]\n",
      "Attempt number: 7\n",
      "[7, 14, 33, 40, 43, 48, 49, 52, 64, 66]\n",
      "Attempt number: 8\n",
      "[7, 14, 33, 40, 43, 48, 49, 52, 64, 66]\n",
      "Sorted after 8 attempts\n",
      "Sorted list: [7, 14, 33, 40, 43, 48, 49, 52, 64, 66]\n"
     ]
    }
   ],
   "source": [
    "def bubble_sort(arr):\n",
    "    attempts = 0\n",
    "    n = len(arr)\n",
    "    while True:\n",
    "        attempts += 1\n",
    "        changes = False\n",
    "        for i in range(n - 1):\n",
    "            current = arr[i]\n",
    "            next_value = arr[i+1]\n",
    "            if current > next_value:\n",
    "                arr[i] = next_value\n",
    "                arr[i+1] = current\n",
    "                changes = True\n",
    "        print(f'Attempt number: {attempts}')\n",
    "        print(arr)\n",
    "        if not changes:\n",
    "            break\n",
    "    print(f\"Sorted after {attempts} attempts\")\n",
    "    return arr\n",
    "\n",
    "print(\"Original list:\", list_to_sort[:10])\n",
    "sorted_arr = bubble_sort(list_to_sort[:10])\n",
    "print(\"Sorted list:\", sorted_arr[:10])         "
   ]
  },
  {
   "cell_type": "markdown",
   "metadata": {},
   "source": [
    "## 3) _Insertion Sort_: \n",
    "It is a simple sorting algorithm that builds the sorted list one element at a time by comparing the current element with the already sorted portion and shifting larger elements to the right to insert the current element in the correct position. It starts with the second element and iterates through the list until all elements are sorted. The time complexity is O(n) in the best case (when the list is already sorted), and O(n²) in both the average and worst cases (when elements are in random or reverse order). The space complexity is O(1) since it is an in-place algorithm."
   ]
  },
  {
   "cell_type": "markdown",
   "metadata": {},
   "source": [
    "For this one I first tried to solved it without thinking about it, without looking up things in google or anything realted, just using the things I remember (like in some interviews i've been in). However, after this first try I solved it by using internet too. You can see the big difference between them, which shows how much I still have to learn."
   ]
  },
  {
   "cell_type": "code",
   "execution_count": 16,
   "metadata": {},
   "outputs": [
    {
     "name": "stdout",
     "output_type": "stream",
     "text": [
      "Original list: [66, 48, 43, 52, 33, 40, 64, 7, 14, 49]\n",
      "For i = 1 then list is: [48, 66, 43, 52, 33, 40, 64, 7, 14, 49]\n",
      "For i = 2 then list is: [43, 48, 66, 52, 33, 40, 64, 7, 14, 49]\n",
      "For i = 3 then list is: [43, 48, 52, 66, 33, 40, 64, 7, 14, 49]\n",
      "For i = 4 then list is: [33, 43, 48, 52, 66, 40, 64, 7, 14, 49]\n",
      "For i = 5 then list is: [33, 40, 43, 48, 52, 66, 64, 7, 14, 49]\n",
      "For i = 6 then list is: [33, 40, 43, 48, 52, 64, 66, 7, 14, 49]\n",
      "For i = 7 then list is: [7, 33, 40, 43, 48, 52, 64, 66, 14, 49]\n",
      "For i = 8 then list is: [7, 14, 33, 40, 43, 48, 52, 64, 66, 49]\n",
      "For i = 9 then list is: [7, 14, 33, 40, 43, 48, 49, 52, 64, 66]\n",
      "Sorted list: [7, 14, 33, 40, 43, 48, 49, 52, 64, 66]\n"
     ]
    }
   ],
   "source": [
    "def insertion_sort(arr):\n",
    "    n = len(arr)\n",
    "    for i in range(1, n):\n",
    "        previous = arr[i-1]\n",
    "        current = arr[i]\n",
    "        if current < previous: # Si identifica que es mnor que su antecesor, entra en un loop\n",
    "            for j in range(i-1, -1, -1): #the first -1 is it avoid i = j, the second 1 is to get all the way to 0, and the 3rd 1 is to do it backwards\n",
    "                if j == 0 and arr[j] > arr[i]: # case when j gets to the end of the list\n",
    "                    curr_number = arr.pop(i)\n",
    "                    arr.insert(0, curr_number)\n",
    "                    break\n",
    "                elif arr[j-1] < arr[i] and arr[j] > arr[i]:\n",
    "                    curr_number = arr.pop(i)\n",
    "                    arr.insert(j, curr_number)\n",
    "                    break\n",
    "        print(f'For i = {i} then list is: {arr}')\n",
    "    return arr\n",
    "\n",
    "print(\"Original list:\", list_to_sort[:10])\n",
    "sorted_arr = insertion_sort(list_to_sort[:10])\n",
    "print(\"Sorted list:\", sorted_arr[:10])         "
   ]
  },
  {
   "cell_type": "code",
   "execution_count": 15,
   "metadata": {},
   "outputs": [
    {
     "name": "stdout",
     "output_type": "stream",
     "text": [
      "Original list: [66, 48, 43, 52, 33, 40, 64, 7, 14, 49]\n",
      "For i = 1, the list is: [48, 66, 43, 52, 33, 40, 64, 7, 14, 49]\n",
      "For i = 2, the list is: [43, 48, 66, 52, 33, 40, 64, 7, 14, 49]\n",
      "For i = 3, the list is: [43, 48, 52, 66, 33, 40, 64, 7, 14, 49]\n",
      "For i = 4, the list is: [33, 43, 48, 52, 66, 40, 64, 7, 14, 49]\n",
      "For i = 5, the list is: [33, 40, 43, 48, 52, 66, 64, 7, 14, 49]\n",
      "For i = 6, the list is: [33, 40, 43, 48, 52, 64, 66, 7, 14, 49]\n",
      "For i = 7, the list is: [7, 33, 40, 43, 48, 52, 64, 66, 14, 49]\n",
      "For i = 8, the list is: [7, 14, 33, 40, 43, 48, 52, 64, 66, 49]\n",
      "For i = 9, the list is: [7, 14, 33, 40, 43, 48, 49, 52, 64, 66]\n",
      "Sorted list: [7, 14, 33, 40, 43, 48, 49, 52, 64, 66]\n"
     ]
    }
   ],
   "source": [
    "def insertion_sort(arr):\n",
    "    n = len(arr)\n",
    "    for i in range(1, n):\n",
    "        current = arr[i]\n",
    "        j = i - 1\n",
    "    \n",
    "        while j >= 0 and arr[j] > current:\n",
    "            arr[j + 1] = arr[j]\n",
    "            j -= 1\n",
    "        \n",
    "        arr[j + 1] = current\n",
    "\n",
    "        print(f'For i = {i}, the list is: {arr}')\n",
    "    \n",
    "    return arr\n",
    "\n",
    "print(\"Original list:\", list_to_sort[:10])\n",
    "sorted_arr = insertion_sort(list_to_sort[:10])\n",
    "print(\"Sorted list:\", sorted_arr[:10]) \n"
   ]
  },
  {
   "cell_type": "markdown",
   "metadata": {},
   "source": [
    "## 4) _Merge Sort_ : \n",
    "It is a sorting algorithm that works by breaking an array into smaller pieces and then putting them back together in order. It keeps splitting the list in half until each piece has just one element, then it merges those pieces by comparing them and sorting as it goes. The cool thing is, no matter what, it always takes about O(n log n) time because splitting the list takes log n steps and merging everything back takes n steps at each level. The downside is it uses extra space, about O(n), since it creates new arrays to hold the split-up parts while sorting."
   ]
  },
  {
   "cell_type": "code",
   "execution_count": 4,
   "metadata": {},
   "outputs": [
    {
     "name": "stdout",
     "output_type": "stream",
     "text": [
      "Original list: [66, 48, 43, 52, 33, 40, 64, 7, 14, 49]\n",
      "Sorted list:   [7, 14, 33, 40, 43, 48, 49, 52, 64, 66]\n"
     ]
    }
   ],
   "source": [
    "def merge_sort(arr):\n",
    "    if len(arr) <= 1:\n",
    "        return arr\n",
    "\n",
    "    # Encontrar el punto medio\n",
    "    mid = len(arr) // 2\n",
    "\n",
    "    # Dividir la lista en dos mitades\n",
    "    left_half = merge_sort(arr[:mid])\n",
    "    right_half = merge_sort(arr[mid:])\n",
    "\n",
    "    # Inicializar los índices para la fusión\n",
    "    i = j = 0\n",
    "    merged = []\n",
    "\n",
    "    # Combinar las mitades\n",
    "    while i < len(left_half) and j < len(right_half):\n",
    "        if left_half[i] < right_half[j]:\n",
    "            merged.append(left_half[i])\n",
    "            i += 1\n",
    "        else:\n",
    "            merged.append(right_half[j])\n",
    "            j += 1\n",
    "\n",
    "    # Añadir los elementos restantes de la mitad izquierda (si los hay)\n",
    "    merged.extend(left_half[i:])\n",
    "\n",
    "    # Añadir los elementos restantes de la mitad derecha (si los hay)\n",
    "    merged.extend(right_half[j:])\n",
    "\n",
    "    return merged\n",
    "\n",
    "print(\"Original list:\", list_to_sort[:10])\n",
    "sorted_arr = merge_sort(list_to_sort[:10])\n",
    "print(\"Sorted list:  \", sorted_arr[:10]) \n"
   ]
  },
  {
   "cell_type": "markdown",
   "metadata": {},
   "source": [
    "# 5) _Quick Sort_: \n"
   ]
  },
  {
   "cell_type": "code",
   "execution_count": 5,
   "metadata": {},
   "outputs": [
    {
     "name": "stdout",
     "output_type": "stream",
     "text": [
      "Original list: [66, 48, 43, 52, 33, 40, 64, 7, 14, 49]\n",
      "Sorted list:   [7, 14, 33, 40, 43, 48, 49, 52, 64, 66]\n"
     ]
    }
   ],
   "source": [
    "def quick_sort(arr):\n",
    "    # Caso base: si el arreglo tiene uno o cero elementos\n",
    "    if len(arr) <= 1:\n",
    "        return arr\n",
    "    else:\n",
    "        # Elegimos el pivote (normalmente el primer elemento)\n",
    "        pivot = arr[0]\n",
    "        \n",
    "        # Sublistas: elementos menores que el pivote, iguales al pivote, y mayores que el pivote\n",
    "        less = [x for x in arr[1:] if x < pivot]\n",
    "        equal = [x for x in arr if x == pivot]\n",
    "        greater = [x for x in arr[1:] if x > pivot]\n",
    "\n",
    "        # Llamada recursiva y concatenación\n",
    "        return quick_sort(less) + equal + quick_sort(greater)\n",
    "\n",
    "# Ejemplo de uso\n",
    "print(\"Original list:\", list_to_sort[:10])\n",
    "sorted_arr = quick_sort(list_to_sort[:10])\n",
    "print(\"Sorted list:  \", sorted_arr[:10]) "
   ]
  },
  {
   "cell_type": "code",
   "execution_count": null,
   "metadata": {},
   "outputs": [],
   "source": []
  }
 ],
 "metadata": {
  "kernelspec": {
   "display_name": "Python 3",
   "language": "python",
   "name": "python3"
  },
  "language_info": {
   "codemirror_mode": {
    "name": "ipython",
    "version": 3
   },
   "file_extension": ".py",
   "mimetype": "text/x-python",
   "name": "python",
   "nbconvert_exporter": "python",
   "pygments_lexer": "ipython3",
   "version": "3.10.9"
  }
 },
 "nbformat": 4,
 "nbformat_minor": 2
}
