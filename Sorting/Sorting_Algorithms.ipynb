{
 "cells": [
  {
   "cell_type": "markdown",
   "metadata": {},
   "source": [
    "This jupyter is to show how good different sorting algorithms works"
   ]
  },
  {
   "cell_type": "code",
   "execution_count": 1,
   "metadata": {},
   "outputs": [],
   "source": [
    "list_to_sort = [66, 48, 43, 52, 33, 40, 64, 7, 14, 49, 67, 51, 68, 31, 19, 5, 32, 17, 12, 97, 75, 86, 99, 70, 29, 76, 88, 16, 37, 94]"
   ]
  },
  {
   "cell_type": "markdown",
   "metadata": {},
   "source": [
    "### 1) BogoSort: This is basically sorting randomly the values until they are sorted"
   ]
  },
  {
   "cell_type": "markdown",
   "metadata": {},
   "source": [
    "This algorithm has 2 parts. The first one is sorting in the only one good propetie"
   ]
  },
  {
   "cell_type": "code",
   "execution_count": 7,
   "metadata": {},
   "outputs": [
    {
     "name": "stdout",
     "output_type": "stream",
     "text": [
      "Original list: [64, 88, 76, 97, 94]\n",
      "Attempt numbers: 1\n",
      "[94, 88, 97, 64, 76]\n",
      "Attempt numbers: 2\n",
      "[97, 76, 88, 64, 94]\n",
      "Attempt numbers: 3\n",
      "[64, 94, 76, 97, 88]\n",
      "Attempt numbers: 4\n",
      "[94, 97, 76, 64, 88]\n",
      "Attempt numbers: 5\n",
      "[94, 88, 97, 64, 76]\n",
      "Attempt numbers: 6\n",
      "[94, 76, 64, 88, 97]\n",
      "Attempt numbers: 7\n",
      "[94, 88, 97, 76, 64]\n",
      "Attempt numbers: 8\n",
      "[64, 88, 76, 94, 97]\n",
      "Attempt numbers: 9\n",
      "[64, 97, 88, 94, 76]\n",
      "Sorted after 61 attempts\n",
      "Sorted list: [64, 76, 88, 94, 97]\n"
     ]
    }
   ],
   "source": [
    "import random\n",
    "\n",
    "def is_sorted(arr):\n",
    "    for i in range(len(arr) - 1):\n",
    "        if arr[i] > arr[i + 1]:\n",
    "            return False\n",
    "    return True\n",
    "\n",
    "def bogo_sort(arr):\n",
    "    attempts = 0 \n",
    "    while not is_sorted(arr):\n",
    "        random.shuffle(arr) \n",
    "        attempts += 1\n",
    "        if attempts // 10 == 0:\n",
    "            print(f'Attempt numbers: {attempts}')\n",
    "            print(arr)\n",
    "    print(f\"Sorted after {attempts} attempts\")\n",
    "    return arr\n",
    "\n",
    "print(\"Original list:\", list_to_sort[:5]) # ONLY 5 NUMBER SO IT DOESN'T TAKE SO LONG\n",
    "sorted_arr = bogo_sort(list_to_sort[:5])\n",
    "print(\"Sorted list:\", sorted_arr[:5])\n"
   ]
  },
  {
   "cell_type": "markdown",
   "metadata": {},
   "source": [
    "### 2) Bubble Sort: This Algorithm compares each elements and moves it to the right until it reaches the next element that is smaller or equal. Therefore each round it starts creating little bubbles of sorted numbers."
   ]
  },
  {
   "cell_type": "code",
   "execution_count": 6,
   "metadata": {},
   "outputs": [
    {
     "name": "stdout",
     "output_type": "stream",
     "text": [
      "Original list: [66, 48, 43, 52, 33, 40, 64, 7, 14, 49]\n",
      "Attempt number: 1\n",
      "[48, 43, 52, 33, 40, 64, 7, 14, 49, 66]\n",
      "Attempt number: 2\n",
      "[43, 48, 33, 40, 52, 7, 14, 49, 64, 66]\n",
      "Attempt number: 3\n",
      "[43, 33, 40, 48, 7, 14, 49, 52, 64, 66]\n",
      "Attempt number: 4\n",
      "[33, 40, 43, 7, 14, 48, 49, 52, 64, 66]\n",
      "Attempt number: 5\n",
      "[33, 40, 7, 14, 43, 48, 49, 52, 64, 66]\n",
      "Attempt number: 6\n",
      "[33, 7, 14, 40, 43, 48, 49, 52, 64, 66]\n",
      "Attempt number: 7\n",
      "[7, 14, 33, 40, 43, 48, 49, 52, 64, 66]\n",
      "Sorted after 7 attempts\n",
      "Sorted list: [7, 14, 33, 40, 43, 48, 49, 52, 64, 66]\n"
     ]
    }
   ],
   "source": [
    "# We are going to use pointers\n",
    "def is_sorted(arr):\n",
    "    for i in range(len(arr) - 1):\n",
    "        if arr[i] > arr[i + 1]:\n",
    "            return False\n",
    "    return True\n",
    "\n",
    "\n",
    "def bubble_sort(arr):\n",
    "    attempts = 0\n",
    "    while not is_sorted(arr):\n",
    "        attempts += 1\n",
    "        for i in range(len(arr) - 1):\n",
    "            current = arr[i]\n",
    "            next_value = arr[i+1]\n",
    "            if current > next_value:\n",
    "                arr[i] = next_value\n",
    "                arr[i+1] = current\n",
    "        print(f'Attempt number: {attempts}')\n",
    "        print(arr)        \n",
    "    print(f\"Sorted after {attempts} attempts\")\n",
    "    return arr\n",
    "\n",
    "print(\"Original list:\", list_to_sort[:10]) # ONLY 5 NUMBER SO IT DOESN'T TAKE SO LONG\n",
    "sorted_arr = bubble_sort(list_to_sort[:10])\n",
    "print(\"Sorted list:\", sorted_arr[:10])         "
   ]
  },
  {
   "cell_type": "code",
   "execution_count": null,
   "metadata": {},
   "outputs": [],
   "source": []
  }
 ],
 "metadata": {
  "kernelspec": {
   "display_name": "Python 3",
   "language": "python",
   "name": "python3"
  },
  "language_info": {
   "codemirror_mode": {
    "name": "ipython",
    "version": 3
   },
   "file_extension": ".py",
   "mimetype": "text/x-python",
   "name": "python",
   "nbconvert_exporter": "python",
   "pygments_lexer": "ipython3",
   "version": "3.10.9"
  }
 },
 "nbformat": 4,
 "nbformat_minor": 2
}
