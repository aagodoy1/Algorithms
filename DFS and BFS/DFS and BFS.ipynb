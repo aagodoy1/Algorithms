{
 "cells": [
  {
   "cell_type": "markdown",
   "metadata": {},
   "source": [
    "Hello there! (General Kenobi)\n",
    "\n",
    "In this Jupyter notebook, we are going to solve some problems using DFS and BFS, which are search algorithms. If you are not familiar with these concepts, I recommend checking out the theory first. However, I can give you a general idea.\n",
    "\n",
    "Imagine you have a tree, and you want to find a specific leaf. You have two approaches:\n",
    "\n",
    "- BFS (Breadth-First Search): You start by looking at all the leaves closest to the tree trunk. If you don't find it among the closest ones, you move to the \"second level\" and check all the next closest leaves. Repeat this process until you find the leaf you are looking for.\n",
    "\n",
    "- DFS (Depth-First Search): You pick one branch of the tree and explore it deeply until you reach the end. This means you start with a leaf closest to the trunk (level 1) and, if it's not the one you’re looking for, you continue to the next leaf on the same branch, moving to level 2 in proximity to the trunk. If you reach the end of the branch without finding your leaf, you backtrack to the previous level and continue to the next leaf.\n",
    "\n",
    "With that overview, let's dive into the exercises!"
   ]
  },
  {
   "cell_type": "markdown",
   "metadata": {},
   "source": [
    "### 0) Define the graph and problems"
   ]
  },
  {
   "cell_type": "markdown",
   "metadata": {},
   "source": [
    "Problems: \n",
    "\n",
    "    a) Create the algorithm to identify every node in the tree. Use DFS and BFS to do this. R: A,B,C,D,E,F,G\n",
    "        Also. Create a tuple that has all the nodes visited by the algorithm, in the order they were visited.\n",
    "    b) Count how many 'unions' are in the tree. R:7\n",
    "    c) Identify if there are any cicles in the Tree. R: Yes, there is one\n",
    "    d) Ifentify the shortest way to get to the node G"
   ]
  },
  {
   "cell_type": "code",
   "execution_count": 3,
   "metadata": {},
   "outputs": [],
   "source": [
    "graph = {\n",
    "    'A': ['B', 'C'],\n",
    "    'B': ['A', 'D', 'E'],\n",
    "    'C': ['A', 'F'],\n",
    "    'D': ['B'],\n",
    "    'E': ['B', 'F', 'G'],\n",
    "    'F': ['C', 'E'],\n",
    "    'G': ['E']\n",
    "}\n",
    "\n",
    "#     A\n",
    "#    / \\\n",
    "#   B   C\n",
    "#  / \\   \\\n",
    "# D   E - F\n",
    "#      \\\n",
    "#       G\n",
    "\n",
    "## This graph shows starts with Node A, which is connected to node B and C, and those are connected to node A,D,E and A,F too."
   ]
  },
  {
   "cell_type": "markdown",
   "metadata": {},
   "source": [
    "## a.1) Breadth-First Search"
   ]
  },
  {
   "cell_type": "code",
   "execution_count": 26,
   "metadata": {},
   "outputs": [
    {
     "name": "stdout",
     "output_type": "stream",
     "text": [
      "Search Started\n",
      "Level number: 0\n",
      "Nodes in this level: {'F'}\n",
      "Next level node found: C\n",
      "Next level node found: E\n",
      "Level number: 0\n",
      "Nodes in this level: {'C', 'E'}\n",
      "Next level node found: A\n",
      "Next level node found: B\n",
      "Next level node found: G\n",
      "Level number: 0\n",
      "Nodes in this level: {'B', 'A', 'G'}\n",
      "Next level node found: A\n",
      "Next level node found: D\n",
      "Next level node found: B\n",
      "Goal Node has been found\n",
      "Nodes visited: {'B', 'F', 'C', 'A', 'G', 'E'}\n"
     ]
    }
   ],
   "source": [
    "def BreadthFirstSearch(graph, start, goal):\n",
    "\n",
    "    i = 0\n",
    "    node_found = False\n",
    "    print('Search Started')\n",
    "\n",
    "    nodes_level = set()\n",
    "    nodes_level.add(start)\n",
    "    nodes_next_level = set()\n",
    "    nodes_last_level = set()\n",
    "    nodes_visited = set()\n",
    "    while True:\n",
    "        #First see the possible ways to take\n",
    "        print(f'Level number: ' + str(i))\n",
    "        print(f'Nodes in this level: ' + str(nodes_level))\n",
    "\n",
    "        for node in nodes_level:\n",
    "            nodes_visited.add(node)\n",
    "            if node == goal:\n",
    "                print(f'Goal Node has been found')\n",
    "                node_found = True\n",
    "                break\n",
    "            for next_node in graph[node]:\n",
    "                if next_node not in nodes_last_level:\n",
    "                    print('Next level node found: ' + next_node)\n",
    "                    nodes_next_level.add(next_node)\n",
    "        if node_found:\n",
    "            break\n",
    "\n",
    "        nodes_last_level = nodes_level.copy()\n",
    "        nodes_level.clear()\n",
    "        nodes_level = nodes_next_level.copy()\n",
    "        nodes_next_level.clear()\n",
    "                \n",
    "    print('Nodes visited: ' +  str(nodes_visited))\n",
    "BreadthFirstSearch(graph, 'F', 'G')\n",
    "\n"
   ]
  },
  {
   "cell_type": "markdown",
   "metadata": {},
   "source": [
    "## a.2) Depth-First Search"
   ]
  },
  {
   "cell_type": "code",
   "execution_count": 27,
   "metadata": {},
   "outputs": [
    {
     "name": "stdout",
     "output_type": "stream",
     "text": [
      "Current Node: F\n",
      "Node F has not been visited before\n",
      "Current Node: E\n",
      "Node E has not been visited before\n",
      "Current Node: G\n",
      "Node G has not been visited before\n",
      "Goal Node has been found\n",
      "The used to get there is: {'G', 'F', 'E'}\n"
     ]
    }
   ],
   "source": [
    "def DepthFirstSearch(graph, start, goal):\n",
    "    node_found = False\n",
    "    nodes_visited = set()\n",
    "    order = []\n",
    "    stack = [start]\n",
    "    while stack:\n",
    "        current_node = stack.pop()\n",
    "        print(f'Current Node: {current_node}')\n",
    "        \n",
    "        if current_node not in nodes_visited:\n",
    "            print(f'Visiting New Node {current_node}')\n",
    "            nodes_visited.add(current_node)\n",
    "            order.append(nodes_visited)\n",
    "        else: \n",
    "            print(f'Nodes has been visited before')\n",
    "        \n",
    "        for next_node in graph[current_node]:\n",
    "            if next_node not in nodes_visited:\n",
    "                stack.append(next_node)\n",
    "            \n",
    "        if current_node == goal:\n",
    "            node_found = True\n",
    "            break\n",
    "        \n",
    "    if node_found:\n",
    "        print('Goal Node has been found')\n",
    "        print('The used to get there is: ' + str(nodes_visited))\n",
    "    else: \n",
    "        print('Goal Node is not in the graph')\n",
    "\n",
    "DepthFirstSearch(graph, 'F', 'G')\n",
    "    "
   ]
  },
  {
   "cell_type": "markdown",
   "metadata": {},
   "source": [
    "## b.1) Count how many 'unions' are in the tree\n",
    "\n",
    "In order to answer this we need to clarify is the graph: \n",
    "\n",
    "Directed: Has a specific direction (for example, from A to B, but not necessarily from B to A). This means that edges have a direction indicating the relationship between the nodes.\n",
    "\n",
    "Undirected: Has no specific direction (for example, if A is connected to B, that means B is also connected to A). The edges represent bidirectional relationships.\n",
    "\n",
    "Complete: Every node in the graph is connected to all the other nodes. In a complete graph, each pair of distinct vertices has exactly one edge between them.\n",
    "\n",
    "In this case we have a not Undirected Graph, therefore, the formula is: Node connections/2\n"
   ]
  },
  {
   "cell_type": "code",
   "execution_count": 28,
   "metadata": {},
   "outputs": [
    {
     "name": "stdout",
     "output_type": "stream",
     "text": [
      "This Undirected Graph has 7.0 connections\n"
     ]
    }
   ],
   "source": [
    "counter = 0\n",
    "for node in graph:\n",
    "    for conection in graph[node]:\n",
    "        counter+=1\n",
    "    \n",
    "print(f'This Undirected Graph has {counter/2} connections')"
   ]
  },
  {
   "cell_type": "markdown",
   "metadata": {},
   "source": [
    "## c.1) Identify if there are any cicles in the Tree"
   ]
  },
  {
   "cell_type": "code",
   "execution_count": null,
   "metadata": {},
   "outputs": [],
   "source": [
    "def detecting_cycle(graph):\n",
    "    visited = set()\n",
    "    stack = [graph[0]] # we start with the first node in the graph\n",
    "    has_cycle = False\n",
    "    order = []\n",
    "\n",
    "    while stack:\n",
    "        current_node = stack.pop()\n",
    "        print(f'Current Node: {current_node}')\n",
    "        \n",
    "        if current_node not in visited:\n",
    "            print(f'Visiting New Node {current_node}')\n",
    "            visited.add(current_node)\n",
    "            order.append(visited)\n",
    "        else: \n",
    "            print(f'Nodes has been visited before')\n",
    "        \n",
    "        for next_node in graph[current_node]:\n",
    "            if next_node not in visited:\n",
    "                stack.append(next_node)\n",
    "        \n",
    "\n",
    "    \n"
   ]
  }
 ],
 "metadata": {
  "kernelspec": {
   "display_name": "base",
   "language": "python",
   "name": "python3"
  },
  "language_info": {
   "codemirror_mode": {
    "name": "ipython",
    "version": 3
   },
   "file_extension": ".py",
   "mimetype": "text/x-python",
   "name": "python",
   "nbconvert_exporter": "python",
   "pygments_lexer": "ipython3",
   "version": "3.11.7"
  }
 },
 "nbformat": 4,
 "nbformat_minor": 2
}
